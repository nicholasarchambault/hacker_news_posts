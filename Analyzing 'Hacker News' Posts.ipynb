{
 "cells": [
  {
   "cell_type": "markdown",
   "metadata": {
    "collapsed": true
   },
   "source": [
    "# Analyzing 'Hacker News' Posts\n",
    "by Nicholas Archambault\n",
    "\n",
    "Hacker News is a website created by startup incubator Y-Combinator which allows users to submit posts related to technology and startups.  These posts can be voted and commented on, in a format similar to that of Reddit.  Posts with the most engagement can reach hundreds of thousands of visitors.\n",
    "\n",
    "This project analyzes information on 20,000 Hacker News posts.  The dataset has been abridged from its full, 300,000-row version, and it represents a sample of all posts which received comments. \n",
    "\n",
    "Two types of popular Hacker News posts are `Ask HN`, where users submit a question to the Hacker News community, and `Show HN`, where users post their projects, products, or interesting stories and facts.\n",
    "\n",
    "This project seeks to understand the metrics of these posts' popularity.  We examine whether `Ask HN` or `Show HN` posts receive higher levels of engagement, and whether posts created at a certain time generally garner more interactions from the community."
   ]
  },
  {
   "cell_type": "markdown",
   "metadata": {},
   "source": [
    "## Introduction\n",
    "\n",
    "First, we'll read in the data and remove the headers."
   ]
  },
  {
   "cell_type": "code",
   "execution_count": 1,
   "metadata": {},
   "outputs": [
    {
     "data": {
      "text/plain": [
       "[['id', 'title', 'url', 'num_points', 'num_comments', 'author', 'created_at'],\n",
       " ['12224879',\n",
       "  'Interactive Dynamic Video',\n",
       "  'http://www.interactivedynamicvideo.com/',\n",
       "  '386',\n",
       "  '52',\n",
       "  'ne0phyte',\n",
       "  '8/4/2016 11:52'],\n",
       " ['10975351',\n",
       "  'How to Use Open Source and Shut the Fuck Up at the Same Time',\n",
       "  'http://hueniverse.com/2016/01/26/how-to-use-open-source-and-shut-the-fuck-up-at-the-same-time/',\n",
       "  '39',\n",
       "  '10',\n",
       "  'josep2',\n",
       "  '1/26/2016 19:30'],\n",
       " ['11964716',\n",
       "  \"Florida DJs May Face Felony for April Fools' Water Joke\",\n",
       "  'http://www.thewire.com/entertainment/2013/04/florida-djs-april-fools-water-joke/63798/',\n",
       "  '2',\n",
       "  '1',\n",
       "  'vezycash',\n",
       "  '6/23/2016 22:20'],\n",
       " ['11919867',\n",
       "  'Technology ventures: From Idea to Enterprise',\n",
       "  'https://www.amazon.com/Technology-Ventures-Enterprise-Thomas-Byers/dp/0073523429',\n",
       "  '3',\n",
       "  '1',\n",
       "  'hswarna',\n",
       "  '6/17/2016 0:01']]"
      ]
     },
     "execution_count": 1,
     "metadata": {},
     "output_type": "execute_result"
    }
   ],
   "source": [
    "# Import data, clean header\n",
    "from csv import reader\n",
    "file = open(\"hacker_news.csv\")\n",
    "read_file = reader(file)\n",
    "hn = list(read_file)\n",
    "hn[:5]"
   ]
  },
  {
   "cell_type": "code",
   "execution_count": 2,
   "metadata": {},
   "outputs": [
    {
     "name": "stdout",
     "output_type": "stream",
     "text": [
      "['id', 'title', 'url', 'num_points', 'num_comments', 'author', 'created_at']\n"
     ]
    },
    {
     "data": {
      "text/plain": [
       "[['12224879',\n",
       "  'Interactive Dynamic Video',\n",
       "  'http://www.interactivedynamicvideo.com/',\n",
       "  '386',\n",
       "  '52',\n",
       "  'ne0phyte',\n",
       "  '8/4/2016 11:52'],\n",
       " ['10975351',\n",
       "  'How to Use Open Source and Shut the Fuck Up at the Same Time',\n",
       "  'http://hueniverse.com/2016/01/26/how-to-use-open-source-and-shut-the-fuck-up-at-the-same-time/',\n",
       "  '39',\n",
       "  '10',\n",
       "  'josep2',\n",
       "  '1/26/2016 19:30'],\n",
       " ['11964716',\n",
       "  \"Florida DJs May Face Felony for April Fools' Water Joke\",\n",
       "  'http://www.thewire.com/entertainment/2013/04/florida-djs-april-fools-water-joke/63798/',\n",
       "  '2',\n",
       "  '1',\n",
       "  'vezycash',\n",
       "  '6/23/2016 22:20'],\n",
       " ['11919867',\n",
       "  'Technology ventures: From Idea to Enterprise',\n",
       "  'https://www.amazon.com/Technology-Ventures-Enterprise-Thomas-Byers/dp/0073523429',\n",
       "  '3',\n",
       "  '1',\n",
       "  'hswarna',\n",
       "  '6/17/2016 0:01'],\n",
       " ['10301696',\n",
       "  'Note by Note: The Making of Steinway L1037 (2007)',\n",
       "  'http://www.nytimes.com/2007/11/07/movies/07stein.html?_r=0',\n",
       "  '8',\n",
       "  '2',\n",
       "  'walterbell',\n",
       "  '9/30/2015 4:12']]"
      ]
     },
     "execution_count": 2,
     "metadata": {},
     "output_type": "execute_result"
    }
   ],
   "source": [
    "# Explore data\n",
    "headers = hn[0]\n",
    "hn = hn[1:]\n",
    "print(headers)\n",
    "hn[:5]"
   ]
  },
  {
   "cell_type": "markdown",
   "metadata": {},
   "source": [
    "## Extracting Ask HN and Show HN Posts\n",
    "\n",
    "We can see above that the data set contains the title of the posts, the number of comments for each post, and the date the post was created. Let's start by exploring the number of comments for each type of post. \n",
    "\n",
    "First, we'll identify posts that begin with either Ask HN or Show HN and separate the data for those two types of posts into different lists. Separating the data makes it easier to analyze in the following steps."
   ]
  },
  {
   "cell_type": "code",
   "execution_count": 3,
   "metadata": {},
   "outputs": [
    {
     "name": "stdout",
     "output_type": "stream",
     "text": [
      "1744\n",
      "1162\n",
      "17194\n"
     ]
    }
   ],
   "source": [
    "# Create empty lists for each category\n",
    "ask_posts = []\n",
    "show_posts = []\n",
    "other = []\n",
    "\n",
    "# Increment each list for each occurrence of its post type\n",
    "for row in hn:\n",
    "    title = str(row[1].lower())\n",
    "    if title.startswith(\"ask hn\"):\n",
    "        ask_posts.append(row)\n",
    "    elif title.startswith(\"show hn\"):\n",
    "        show_posts.append(row)\n",
    "    else:\n",
    "        other.append(row)\n",
    "print(len(ask_posts))\n",
    "print(len(show_posts))\n",
    "print(len(other))"
   ]
  },
  {
   "cell_type": "markdown",
   "metadata": {},
   "source": [
    "## Average Number of Comments for Ask and Show Posts\n",
    "\n",
    "Now that we've separated ask posts and show posts into different lists, we'll calculate the average number of comments each type of post receives."
   ]
  },
  {
   "cell_type": "code",
   "execution_count": 4,
   "metadata": {},
   "outputs": [
    {
     "data": {
      "text/plain": [
       "14.038417431192661"
      ]
     },
     "execution_count": 4,
     "metadata": {},
     "output_type": "execute_result"
    }
   ],
   "source": [
    "# Increment to count total number of ask comments\n",
    "total_ask_comments = 0\n",
    "\n",
    "for post in ask_posts:\n",
    "    comments = int(post[4])\n",
    "    total_ask_comments += comments\n",
    "\n",
    "# Find average per post\n",
    "avg_ask_comments = total_ask_comments/len(ask_posts)\n",
    "avg_ask_comments"
   ]
  },
  {
   "cell_type": "code",
   "execution_count": 5,
   "metadata": {},
   "outputs": [
    {
     "data": {
      "text/plain": [
       "10.31669535283993"
      ]
     },
     "execution_count": 5,
     "metadata": {},
     "output_type": "execute_result"
    }
   ],
   "source": [
    "# Repeat for show comments\n",
    "total_show_comments = 0\n",
    "\n",
    "for post in show_posts:\n",
    "    comments = int(post[4])\n",
    "    total_show_comments += comments\n",
    "\n",
    "avg_show_comments = total_show_comments/len(show_posts)\n",
    "avg_show_comments"
   ]
  },
  {
   "cell_type": "markdown",
   "metadata": {},
   "source": [
    "These figures reveal that Ask posts receive more comments, on average, than Show posts."
   ]
  },
  {
   "cell_type": "markdown",
   "metadata": {},
   "source": [
    "## Finding the Amount of Ask Posts and Comments by Hour Created\n",
    "\n",
    "Next, we'll determine if we can maximize the amount of comments an ask post receives by creating it at a certain time. First, we'll find the amount of ask posts created during each hour of day, along with the number of comments those posts received. Then, we'll calculate the average amount of comments ask posts created at each hour of the day receive."
   ]
  },
  {
   "cell_type": "code",
   "execution_count": 6,
   "metadata": {},
   "outputs": [],
   "source": [
    "# Import datetime reader\n",
    "import datetime as dt\n",
    "result_list = []\n",
    "\n",
    "# Pull time and comment numbers from each post\n",
    "for post in ask_posts:\n",
    "    time = post[6]\n",
    "    comments = int(post[4])\n",
    "    result_list.append([time, comments])\n",
    "\n",
    "# Initialize dictionaries to store hourly totals\n",
    "counts_by_hour = {}\n",
    "comments_by_hour = {}\n",
    "date_format = \"%m/%d/%Y %H:%M\"\n",
    "\n",
    "# Strip hours from datetime objects; increment dictionaries \n",
    "for i in result_list:\n",
    "    date = i[0]\n",
    "    comments = int(i[1])\n",
    "    time = dt.datetime.strptime(date, date_format).strftime(\"%H\")\n",
    "    \n",
    "    if time not in counts_by_hour:\n",
    "        counts_by_hour[time] = 1\n",
    "        comments_by_hour[time] = comments\n",
    "    else:\n",
    "        counts_by_hour[time] += 1\n",
    "        comments_by_hour[time] += comments"
   ]
  },
  {
   "cell_type": "code",
   "execution_count": 7,
   "metadata": {},
   "outputs": [
    {
     "data": {
      "text/plain": [
       "[['09', 5.5777777777777775],\n",
       " ['13', 14.741176470588234],\n",
       " ['10', 13.440677966101696],\n",
       " ['14', 13.233644859813085],\n",
       " ['16', 16.796296296296298],\n",
       " ['23', 7.985294117647059],\n",
       " ['12', 9.41095890410959],\n",
       " ['17', 11.46],\n",
       " ['15', 38.5948275862069],\n",
       " ['21', 16.009174311926607],\n",
       " ['20', 21.525],\n",
       " ['02', 23.810344827586206],\n",
       " ['18', 13.20183486238532],\n",
       " ['03', 7.796296296296297],\n",
       " ['05', 10.08695652173913],\n",
       " ['19', 10.8],\n",
       " ['01', 11.383333333333333],\n",
       " ['22', 6.746478873239437],\n",
       " ['08', 10.25],\n",
       " ['04', 7.170212765957447],\n",
       " ['00', 8.127272727272727],\n",
       " ['06', 9.022727272727273],\n",
       " ['07', 7.852941176470588],\n",
       " ['11', 11.051724137931034]]"
      ]
     },
     "execution_count": 7,
     "metadata": {},
     "output_type": "execute_result"
    }
   ],
   "source": [
    "# Calculate average comments per hour\n",
    "avg_by_hour = []\n",
    "\n",
    "for i in counts_by_hour:\n",
    "    avg_by_hour.append([i, comments_by_hour[i]/counts_by_hour[i]])\n",
    "\n",
    "avg_by_hour"
   ]
  },
  {
   "cell_type": "markdown",
   "metadata": {},
   "source": [
    "To sort the results in order of comment numbers rather than by hour, we must swap the position of the two values."
   ]
  },
  {
   "cell_type": "code",
   "execution_count": 8,
   "metadata": {},
   "outputs": [
    {
     "data": {
      "text/plain": [
       "[[38.5948275862069, '15'],\n",
       " [23.810344827586206, '02'],\n",
       " [21.525, '20'],\n",
       " [16.796296296296298, '16'],\n",
       " [16.009174311926607, '21'],\n",
       " [14.741176470588234, '13'],\n",
       " [13.440677966101696, '10'],\n",
       " [13.233644859813085, '14'],\n",
       " [13.20183486238532, '18'],\n",
       " [11.46, '17'],\n",
       " [11.383333333333333, '01'],\n",
       " [11.051724137931034, '11'],\n",
       " [10.8, '19'],\n",
       " [10.25, '08'],\n",
       " [10.08695652173913, '05'],\n",
       " [9.41095890410959, '12'],\n",
       " [9.022727272727273, '06'],\n",
       " [8.127272727272727, '00'],\n",
       " [7.985294117647059, '23'],\n",
       " [7.852941176470588, '07'],\n",
       " [7.796296296296297, '03'],\n",
       " [7.170212765957447, '04'],\n",
       " [6.746478873239437, '22'],\n",
       " [5.5777777777777775, '09']]"
      ]
     },
     "execution_count": 8,
     "metadata": {},
     "output_type": "execute_result"
    }
   ],
   "source": [
    "swap = []\n",
    "for i in avg_by_hour:\n",
    "    swap.append([i[1], i[0]])\n",
    "swap = sorted(swap, reverse = True)\n",
    "swap"
   ]
  },
  {
   "cell_type": "code",
   "execution_count": 9,
   "metadata": {},
   "outputs": [
    {
     "name": "stdout",
     "output_type": "stream",
     "text": [
      "15:00: 38.59 average comments per post\n",
      "02:00: 23.81 average comments per post\n",
      "20:00: 21.52 average comments per post\n",
      "16:00: 16.80 average comments per post\n",
      "21:00: 16.01 average comments per post\n"
     ]
    }
   ],
   "source": [
    "# Display top five hours of comment engagement\n",
    "for i in swap[:5]:\n",
    "    time = dt.datetime.strptime(i[1], \"%H\").strftime(\"%H:%M\")\n",
    "    comments = i[0]\n",
    "    print(\"{}: {:.2f} average comments per post\".format(time,comments))"
   ]
  },
  {
   "cell_type": "markdown",
   "metadata": {},
   "source": [
    "We can conclude that the 3:00pm EST hour averages about 60% more comments than the next closest hour, with ~39 comments per Ask post. We would maximize comment engagement with an Ask post by submitting it in the 3:00 hour."
   ]
  },
  {
   "cell_type": "markdown",
   "metadata": {},
   "source": [
    "## Finding the Amount of Show Posts and Comments by Hour Created\n",
    "\n",
    "We can repeat these same steps for all Show posts, then compare whether the optimal posting hours are the same for both types."
   ]
  },
  {
   "cell_type": "code",
   "execution_count": 10,
   "metadata": {},
   "outputs": [],
   "source": [
    "result = []\n",
    "for post in show_posts:\n",
    "    time = post[6]\n",
    "    points = int(post[3])\n",
    "    result.append([time, points])\n"
   ]
  },
  {
   "cell_type": "code",
   "execution_count": 11,
   "metadata": {},
   "outputs": [],
   "source": [
    "count_by_hour = {}\n",
    "points_by_hour = {}\n",
    "date_format = \"%m/%d/%Y %H:%M\"\n",
    "\n",
    "for i in result:\n",
    "    date = i[0]\n",
    "    points = int(i[1])\n",
    "    time = dt.datetime.strptime(date, date_format).strftime(\"%H\")\n",
    "    \n",
    "    if time not in count_by_hour:\n",
    "        count_by_hour[time] = 1\n",
    "        points_by_hour[time] = points\n",
    "    else:\n",
    "        count_by_hour[time] += 1\n",
    "        points_by_hour[time] += points"
   ]
  },
  {
   "cell_type": "code",
   "execution_count": 12,
   "metadata": {},
   "outputs": [
    {
     "data": {
      "text/plain": [
       "[['09', 12.28888888888889],\n",
       " ['13', 28.68235294117647],\n",
       " ['10', 11.542372881355933],\n",
       " ['14', 20.439252336448597],\n",
       " ['16', 24.38888888888889],\n",
       " ['23', 22.441176470588236],\n",
       " ['12', 34.83561643835616],\n",
       " ['17', 25.21],\n",
       " ['15', 19.20689655172414],\n",
       " ['21', 7.944954128440367],\n",
       " ['20', 22.7375],\n",
       " ['02', 5.862068965517241],\n",
       " ['18', 20.321100917431192],\n",
       " ['03', 12.574074074074074],\n",
       " ['05', 2.260869565217391],\n",
       " ['19', 15.472727272727273],\n",
       " ['01', 11.666666666666666],\n",
       " ['22', 26.140845070422536],\n",
       " ['08', 10.8125],\n",
       " ['04', 8.212765957446809],\n",
       " ['00', 21.327272727272728],\n",
       " ['06', 8.522727272727273],\n",
       " ['07', 14.529411764705882],\n",
       " ['11', 25.517241379310345]]"
      ]
     },
     "execution_count": 12,
     "metadata": {},
     "output_type": "execute_result"
    }
   ],
   "source": [
    "avg_by_hour_2 = []\n",
    "\n",
    "for i in counts_by_hour:\n",
    "    avg_by_hour_2.append([i, points_by_hour[i]/counts_by_hour[i]])\n",
    "\n",
    "avg_by_hour_2"
   ]
  },
  {
   "cell_type": "code",
   "execution_count": 13,
   "metadata": {},
   "outputs": [
    {
     "data": {
      "text/plain": [
       "[[34.83561643835616, '12'],\n",
       " [28.68235294117647, '13'],\n",
       " [26.140845070422536, '22'],\n",
       " [25.517241379310345, '11'],\n",
       " [25.21, '17'],\n",
       " [24.38888888888889, '16'],\n",
       " [22.7375, '20'],\n",
       " [22.441176470588236, '23'],\n",
       " [21.327272727272728, '00'],\n",
       " [20.439252336448597, '14'],\n",
       " [20.321100917431192, '18'],\n",
       " [19.20689655172414, '15'],\n",
       " [15.472727272727273, '19'],\n",
       " [14.529411764705882, '07'],\n",
       " [12.574074074074074, '03'],\n",
       " [12.28888888888889, '09'],\n",
       " [11.666666666666666, '01'],\n",
       " [11.542372881355933, '10'],\n",
       " [10.8125, '08'],\n",
       " [8.522727272727273, '06'],\n",
       " [8.212765957446809, '04'],\n",
       " [7.944954128440367, '21'],\n",
       " [5.862068965517241, '02'],\n",
       " [2.260869565217391, '05']]"
      ]
     },
     "execution_count": 13,
     "metadata": {},
     "output_type": "execute_result"
    }
   ],
   "source": [
    "swap_2 = []\n",
    "for i in avg_by_hour_2:\n",
    "    swap_2.append([i[1], i[0]])\n",
    "\n",
    "swap_2 = sorted(swap_2, reverse = True)\n",
    "swap_2"
   ]
  },
  {
   "cell_type": "code",
   "execution_count": 14,
   "metadata": {},
   "outputs": [
    {
     "name": "stdout",
     "output_type": "stream",
     "text": [
      "12:00: 34.84 average points per post\n",
      "13:00: 28.68 average points per post\n",
      "22:00: 26.14 average points per post\n",
      "11:00: 25.52 average points per post\n",
      "17:00: 25.21 average points per post\n"
     ]
    }
   ],
   "source": [
    "for i in swap_2[:5]:\n",
    "    time = dt.datetime.strptime(i[1], \"%H\").strftime(\"%H:%M\")\n",
    "    points = i[0]\n",
    "    print(\"{}: {:.2f} average points per post\".format(time,points))"
   ]
  },
  {
   "cell_type": "markdown",
   "metadata": {
    "collapsed": true
   },
   "source": [
    "## Conclusion\n",
    "\n",
    "After examining the popularity of each post type at all hours of the day, we find that the best hour for Ask posts is 3:00pm EST, when it garners around 60% more comments than the next most optimal hour. For Show posts, the best hour is 12:00pm EST. At their best hours, the two post types garner similar numbers of comments: Ask posts average ~4 more than Show posts. \n",
    "\n",
    "Ask posts tend to perform best in the afternoon and evening -- four of the top five hours are between 3:00pm and 9:00pm. Show posts, meanwhile, accrue the most comments in the middle of the day -- three of its top five hours are 11:00am, 12:00pm, and 1:00pm. \n",
    "\n",
    "The spread of comment totals for the top five hours for each post is a final intriguing factor. The difference between the average comments of the top and fifth most popular hours is ~23 for Ask posts, but just 10 for Show posts. This could indicate that the best-performing Ask posts, at any hour, tend to attract a concentration of comments, whereas comments are distributed across Show posts somewhat more evenly."
   ]
  }
 ],
 "metadata": {
  "kernelspec": {
   "display_name": "Python 3",
   "language": "python",
   "name": "python3"
  },
  "language_info": {
   "codemirror_mode": {
    "name": "ipython",
    "version": 3
   },
   "file_extension": ".py",
   "mimetype": "text/x-python",
   "name": "python",
   "nbconvert_exporter": "python",
   "pygments_lexer": "ipython3",
   "version": "3.7.1"
  }
 },
 "nbformat": 4,
 "nbformat_minor": 2
}
